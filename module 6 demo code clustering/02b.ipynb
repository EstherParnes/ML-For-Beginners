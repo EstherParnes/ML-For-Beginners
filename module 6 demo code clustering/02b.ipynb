{
 "cells": [
  {
   "cell_type": "markdown",
   "metadata": {},
   "source": [
    "# Segmenting Data with k-Means Clustering"
   ]
  },
  {
   "cell_type": "markdown",
   "metadata": {},
   "source": [
    "## Learning Objectives\n",
    "The primary objective of clustering is to group items within a dataset based on similarity. **k-Means Clustering** is one of the most popular and easy to use clustering approaches. With k-Means Clustering, similarity is based on a distance metric known as euclidean distance. By the end of this tutorial, you will have learned: \n",
    "+ How to import, explore and prepare data for k-Means Clustering\n",
    "+ How to segment data using k-Means Clustering\n",
    "+ How to evaluate and visualize clusters\n",
    "+ How to choose an appropriate number of clusters\n",
    "+ How to analyze the results of k-Means Clustering"
   ]
  },
  {
   "cell_type": "markdown",
   "metadata": {},
   "source": [
    "## 1. Collect the Data\n",
    "Let's import and preview it:"
   ]
  },
  {
   "cell_type": "code",
   "execution_count": 1,
   "metadata": {},
   "outputs": [],
   "source": [
    "import pandas as pd\n",
    "customers = pd.read_csv(\"mallcustomers.csv\")"
   ]
  },
  {
   "cell_type": "code",
   "execution_count": 2,
   "metadata": {},
   "outputs": [
    {
     "data": {
      "text/html": [
       "<div>\n",
       "<style scoped>\n",
       "    .dataframe tbody tr th:only-of-type {\n",
       "        vertical-align: middle;\n",
       "    }\n",
       "\n",
       "    .dataframe tbody tr th {\n",
       "        vertical-align: top;\n",
       "    }\n",
       "\n",
       "    .dataframe thead th {\n",
       "        text-align: right;\n",
       "    }\n",
       "</style>\n",
       "<table border=\"1\" class=\"dataframe\">\n",
       "  <thead>\n",
       "    <tr style=\"text-align: right;\">\n",
       "      <th></th>\n",
       "      <th>CustomerID</th>\n",
       "      <th>Gender</th>\n",
       "      <th>Age</th>\n",
       "      <th>Income</th>\n",
       "      <th>SpendingScore</th>\n",
       "    </tr>\n",
       "  </thead>\n",
       "  <tbody>\n",
       "    <tr>\n",
       "      <th>0</th>\n",
       "      <td>1</td>\n",
       "      <td>Male</td>\n",
       "      <td>19</td>\n",
       "      <td>15000</td>\n",
       "      <td>39</td>\n",
       "    </tr>\n",
       "    <tr>\n",
       "      <th>1</th>\n",
       "      <td>2</td>\n",
       "      <td>Male</td>\n",
       "      <td>21</td>\n",
       "      <td>15000</td>\n",
       "      <td>81</td>\n",
       "    </tr>\n",
       "    <tr>\n",
       "      <th>2</th>\n",
       "      <td>3</td>\n",
       "      <td>Female</td>\n",
       "      <td>20</td>\n",
       "      <td>16000</td>\n",
       "      <td>6</td>\n",
       "    </tr>\n",
       "    <tr>\n",
       "      <th>3</th>\n",
       "      <td>4</td>\n",
       "      <td>Female</td>\n",
       "      <td>23</td>\n",
       "      <td>16000</td>\n",
       "      <td>77</td>\n",
       "    </tr>\n",
       "    <tr>\n",
       "      <th>4</th>\n",
       "      <td>5</td>\n",
       "      <td>Female</td>\n",
       "      <td>31</td>\n",
       "      <td>17000</td>\n",
       "      <td>40</td>\n",
       "    </tr>\n",
       "  </tbody>\n",
       "</table>\n",
       "</div>"
      ],
      "text/plain": [
       "   CustomerID  Gender  Age  Income  SpendingScore\n",
       "0           1    Male   19   15000             39\n",
       "1           2    Male   21   15000             81\n",
       "2           3  Female   20   16000              6\n",
       "3           4  Female   23   16000             77\n",
       "4           5  Female   31   17000             40"
      ]
     },
     "execution_count": 2,
     "metadata": {},
     "output_type": "execute_result"
    }
   ],
   "source": [
    "customers.head()"
   ]
  },
  {
   "cell_type": "markdown",
   "metadata": {},
   "source": [
    "## 2. Explore the Data\n",
    "Next, let's get a concise summary of the structure and the values within the dataset:"
   ]
  },
  {
   "cell_type": "code",
   "execution_count": 3,
   "metadata": {
    "scrolled": true
   },
   "outputs": [
    {
     "name": "stdout",
     "output_type": "stream",
     "text": [
      "<class 'pandas.core.frame.DataFrame'>\n",
      "RangeIndex: 200 entries, 0 to 199\n",
      "Data columns (total 5 columns):\n",
      " #   Column         Non-Null Count  Dtype \n",
      "---  ------         --------------  ----- \n",
      " 0   CustomerID     200 non-null    int64 \n",
      " 1   Gender         200 non-null    object\n",
      " 2   Age            200 non-null    int64 \n",
      " 3   Income         200 non-null    int64 \n",
      " 4   SpendingScore  200 non-null    int64 \n",
      "dtypes: int64(4), object(1)\n",
      "memory usage: 7.9+ KB\n"
     ]
    }
   ],
   "source": [
    "customers.info()"
   ]
  },
  {
   "cell_type": "code",
   "execution_count": null,
   "metadata": {},
   "outputs": [],
   "source": [
    "customers.describe(include = 'all').round(2)"
   ]
  },
  {
   "cell_type": "markdown",
   "metadata": {},
   "source": [
    "A visual exploration of the dataset can provide us with some additional insight."
   ]
  },
  {
   "cell_type": "code",
   "execution_count": null,
   "metadata": {},
   "outputs": [],
   "source": [
    "from matplotlib import pyplot as plt\n",
    "import seaborn as sns\n",
    "sns.set_theme()"
   ]
  },
  {
   "cell_type": "code",
   "execution_count": null,
   "metadata": {},
   "outputs": [],
   "source": [
    "ax = sns.boxplot(data = customers, \n",
    "                 x = 'Gender', \n",
    "                 y = 'Income', \n",
    "                 palette = 'colorblind')"
   ]
  },
  {
   "cell_type": "code",
   "execution_count": null,
   "metadata": {},
   "outputs": [],
   "source": [
    "ax = sns.boxplot(data = customers, \n",
    "                 x = 'Gender', \n",
    "                 y = 'Age', \n",
    "                 palette = 'colorblind')"
   ]
  },
  {
   "cell_type": "code",
   "execution_count": null,
   "metadata": {
    "scrolled": true
   },
   "outputs": [],
   "source": [
    "ax = sns.boxplot(data = customers, \n",
    "                 x = 'Gender', \n",
    "                 y = 'SpendingScore', \n",
    "                 palette = 'colorblind')"
   ]
  },
  {
   "cell_type": "code",
   "execution_count": null,
   "metadata": {
    "scrolled": true
   },
   "outputs": [],
   "source": [
    "ax = sns.scatterplot(data = customers, \n",
    "                     x = 'Age', \n",
    "                     y = 'Income',\n",
    "                     s = 150)"
   ]
  },
  {
   "cell_type": "code",
   "execution_count": null,
   "metadata": {},
   "outputs": [],
   "source": [
    "ax = sns.scatterplot(data = customers, \n",
    "                     x = 'Age', \n",
    "                     y = 'SpendingScore',\n",
    "                     s = 150)"
   ]
  },
  {
   "cell_type": "code",
   "execution_count": null,
   "metadata": {},
   "outputs": [],
   "source": [
    "ax = sns.scatterplot(data = customers, \n",
    "                     x = 'Income', \n",
    "                     y = 'SpendingScore',\n",
    "                     s = 150)"
   ]
  },
  {
   "cell_type": "markdown",
   "metadata": {},
   "source": [
    "## 3. Prepare the Data"
   ]
  },
  {
   "cell_type": "code",
   "execution_count": null,
   "metadata": {
    "scrolled": true
   },
   "outputs": [],
   "source": [
    "customers[['Income', 'SpendingScore']].describe().round(2)"
   ]
  },
  {
   "cell_type": "code",
   "execution_count": null,
   "metadata": {},
   "outputs": [],
   "source": [
    "from sklearn.preprocessing import StandardScaler\n",
    "scaler = StandardScaler()"
   ]
  },
  {
   "cell_type": "code",
   "execution_count": null,
   "metadata": {},
   "outputs": [],
   "source": [
    "customers_scaled = scaler.fit_transform(customers[['Income', 'SpendingScore']])"
   ]
  },
  {
   "cell_type": "code",
   "execution_count": null,
   "metadata": {},
   "outputs": [],
   "source": [
    "customers_scaled = pd.DataFrame(customers_scaled, columns = ['Income', 'SpendingScore'])"
   ]
  },
  {
   "cell_type": "code",
   "execution_count": null,
   "metadata": {
    "scrolled": true
   },
   "outputs": [],
   "source": [
    "customers_scaled.describe().round(2)"
   ]
  },
  {
   "cell_type": "markdown",
   "metadata": {},
   "source": [
    "## 3. Create the Clusters"
   ]
  },
  {
   "cell_type": "code",
   "execution_count": null,
   "metadata": {},
   "outputs": [],
   "source": [
    "from sklearn.cluster import KMeans\n",
    "km = KMeans(n_clusters = 3, n_init = 25, random_state = 1234)"
   ]
  },
  {
   "cell_type": "code",
   "execution_count": null,
   "metadata": {},
   "outputs": [],
   "source": [
    "km.fit(customers_scaled)"
   ]
  },
  {
   "cell_type": "code",
   "execution_count": null,
   "metadata": {},
   "outputs": [],
   "source": [
    "km.labels_"
   ]
  },
  {
   "cell_type": "code",
   "execution_count": null,
   "metadata": {},
   "outputs": [],
   "source": [
    "km.inertia_"
   ]
  },
  {
   "cell_type": "markdown",
   "metadata": {},
   "source": [
    "## 4. Evaluate and Visualize the Clusters "
   ]
  },
  {
   "cell_type": "code",
   "execution_count": null,
   "metadata": {},
   "outputs": [],
   "source": [
    "pd.Series(km.labels_).value_counts().sort_index()"
   ]
  },
  {
   "cell_type": "code",
   "execution_count": null,
   "metadata": {},
   "outputs": [],
   "source": [
    "km.cluster_centers_"
   ]
  },
  {
   "cell_type": "code",
   "execution_count": null,
   "metadata": {
    "scrolled": true
   },
   "outputs": [],
   "source": [
    "cluster_centers = pd.DataFrame(km.cluster_centers_, \n",
    "                               columns = ['Income', 'SpendingScore'])\n",
    "cluster_centers"
   ]
  },
  {
   "cell_type": "code",
   "execution_count": null,
   "metadata": {},
   "outputs": [],
   "source": [
    "# Set the figure size\n",
    "plt.figure(figsize=(10, 8))\n",
    "\n",
    "#Plot the Clusters\n",
    "ax = sns.scatterplot(data = customers_scaled,\n",
    "                     x = 'Income',\n",
    "                     y = 'SpendingScore', \n",
    "                     hue = km.labels_, \n",
    "                     palette = 'colorblind', \n",
    "                     alpha = 0.8, \n",
    "                     s = 150,\n",
    "                     legend = False)\n",
    "\n",
    "#Plot the Centroids\n",
    "ax = sns.scatterplot(data = cluster_centers, \n",
    "                     x = 'Income',\n",
    "                     y = 'SpendingScore', \n",
    "                     hue = cluster_centers.index, \n",
    "                     palette = 'colorblind', \n",
    "                     s = 600,\n",
    "                     marker = 'D',\n",
    "                     ec = 'black', \n",
    "                     legend = False)\n",
    "\n",
    "# Add Centroid Labels\n",
    "for i in range(len(cluster_centers)):\n",
    "               plt.text(x = cluster_centers.Income[i], \n",
    "                        y = cluster_centers.SpendingScore[i],\n",
    "                        s = i, \n",
    "                        horizontalalignment='center',\n",
    "                        verticalalignment='center',\n",
    "                        size = 15,\n",
    "                        weight = 'bold',\n",
    "                        color = 'white')"
   ]
  },
  {
   "cell_type": "markdown",
   "metadata": {},
   "source": [
    "## 5. Choose the right number of Clusters"
   ]
  },
  {
   "cell_type": "markdown",
   "metadata": {},
   "source": [
    "### The Within Cluster Sum of Squares (WCSS)"
   ]
  },
  {
   "cell_type": "code",
   "execution_count": null,
   "metadata": {},
   "outputs": [],
   "source": [
    "wcss = []\n",
    "for k in range(2, 11):\n",
    "    km = KMeans(n_clusters = k, n_init = 25, random_state = 1234)\n",
    "    km.fit(customers_scaled)\n",
    "    wcss.append(km.inertia_)\n",
    "\n",
    "wcss_series = pd.Series(wcss, index = range(2, 11))\n",
    "\n",
    "plt.figure(figsize=(8, 6))\n",
    "ax = sns.lineplot(y = wcss_series, x = wcss_series.index)\n",
    "ax = sns.scatterplot(y = wcss_series, x = wcss_series.index, s = 150)\n",
    "ax = ax.set(xlabel = 'Number of Clusters (k)', \n",
    "            ylabel = 'Within Cluster Sum of Squares (WCSS)')"
   ]
  },
  {
   "cell_type": "markdown",
   "metadata": {},
   "source": [
    "### The Average Silhouette Score"
   ]
  },
  {
   "cell_type": "code",
   "execution_count": null,
   "metadata": {},
   "outputs": [],
   "source": [
    "from sklearn.metrics import silhouette_score\n",
    "\n",
    "silhouette = []\n",
    "for k in range(2, 11):\n",
    "    km = KMeans(n_clusters = k, n_init = 25, random_state = 1234)\n",
    "    km.fit(customers_scaled)\n",
    "    silhouette.append(silhouette_score(customers_scaled, km.labels_))\n",
    "\n",
    "silhouette_series = pd.Series(silhouette, index = range(2, 11))\n",
    "\n",
    "plt.figure(figsize=(8, 6))\n",
    "ax = sns.lineplot(y = silhouette_series, x = silhouette_series.index)\n",
    "ax = sns.scatterplot(y = silhouette_series, x = silhouette_series.index, s = 150)\n",
    "ax = ax.set(xlabel = 'Number of Clusters (k)', \n",
    "            ylabel = 'Average Silhouette Score')"
   ]
  },
  {
   "cell_type": "markdown",
   "metadata": {},
   "source": [
    "### The Calinski Harabasz Score"
   ]
  },
  {
   "cell_type": "code",
   "execution_count": null,
   "metadata": {},
   "outputs": [],
   "source": [
    "from sklearn.metrics import calinski_harabasz_score\n",
    "\n",
    "calinski = []\n",
    "for k in range(2, 11):\n",
    "    km = KMeans(n_clusters = k, n_init = 25, random_state = 1234)\n",
    "    km.fit(customers_scaled)\n",
    "    calinski.append(calinski_harabasz_score(customers_scaled, km.labels_))\n",
    "\n",
    "calinski_series = pd.Series(calinski, index = range(2, 11))\n",
    "\n",
    "plt.figure(figsize=(8, 6))\n",
    "ax = sns.lineplot(y = calinski_series, x = calinski_series.index)\n",
    "ax = sns.scatterplot(y = calinski_series, x = calinski_series.index, s = 150)\n",
    "ax = ax.set(xlabel = 'Number of Clusters (k)', \n",
    "            ylabel = 'Calinski Harabasz Score')"
   ]
  },
  {
   "cell_type": "markdown",
   "metadata": {},
   "source": [
    "## 6. Analyze and Interpret the Clusters"
   ]
  },
  {
   "cell_type": "code",
   "execution_count": null,
   "metadata": {},
   "outputs": [],
   "source": [
    "km = KMeans(n_clusters = 5, n_init = 25, random_state = 1234)\n",
    "km.fit(customers_scaled)"
   ]
  },
  {
   "cell_type": "code",
   "execution_count": null,
   "metadata": {},
   "outputs": [],
   "source": [
    "cluster_centers = pd.DataFrame(km.cluster_centers_, columns = ['Income', 'SpendingScore'])"
   ]
  },
  {
   "cell_type": "code",
   "execution_count": null,
   "metadata": {},
   "outputs": [],
   "source": [
    "# Set the figure size\n",
    "plt.figure(figsize=(10, 8))\n",
    "\n",
    "#Plot the Clusters\n",
    "ax = sns.scatterplot(data = customers_scaled,\n",
    "                     x = 'Income',\n",
    "                     y = 'SpendingScore', \n",
    "                     hue = km.labels_, \n",
    "                     palette = 'colorblind', \n",
    "                     alpha = 0.8, \n",
    "                     s = 150,\n",
    "                     legend = False)\n",
    "\n",
    "#Plot the Centroids\n",
    "ax = sns.scatterplot(data = cluster_centers, \n",
    "                     x = 'Income',\n",
    "                     y = 'SpendingScore', \n",
    "                     hue = cluster_centers.index, \n",
    "                     palette = 'colorblind', \n",
    "                     s = 600,\n",
    "                     marker = 'D',\n",
    "                     ec = 'black', \n",
    "                     legend = False)\n",
    "\n",
    "\n",
    "# Add Centroid Labels\n",
    "for i in range(len(cluster_centers)):\n",
    "               plt.text(x = cluster_centers.Income[i], \n",
    "                        y = cluster_centers.SpendingScore[i],\n",
    "                        s = i, \n",
    "                        horizontalalignment='center',\n",
    "                        verticalalignment='center',\n",
    "                        size = 15,\n",
    "                        weight = 'bold',\n",
    "                        color = 'white')"
   ]
  },
  {
   "cell_type": "code",
   "execution_count": null,
   "metadata": {},
   "outputs": [],
   "source": [
    "customers['Cluster'] = km.labels_.tolist()\n",
    "customers.head(10)"
   ]
  },
  {
   "cell_type": "code",
   "execution_count": null,
   "metadata": {},
   "outputs": [],
   "source": [
    "customers = pd.get_dummies(customers, columns = ['Gender'])\n",
    "customers.head(10)"
   ]
  },
  {
   "cell_type": "code",
   "execution_count": null,
   "metadata": {},
   "outputs": [],
   "source": [
    "customers.agg({\n",
    "    'Gender_Female': 'mean',\n",
    "    'Gender_Male': 'mean',\n",
    "    'Age': 'median',\n",
    "    'Income': 'median',\n",
    "    'SpendingScore': 'median'}).round(2)"
   ]
  },
  {
   "cell_type": "code",
   "execution_count": null,
   "metadata": {},
   "outputs": [],
   "source": [
    "customers.groupby('Cluster').agg({\n",
    "    'Gender_Female': 'mean',\n",
    "    'Gender_Male': 'mean',\n",
    "    'Age': 'median',\n",
    "    'Income': 'median',\n",
    "    'SpendingScore': 'median'}).round(2)"
   ]
  },
  {
   "cell_type": "markdown",
   "metadata": {},
   "source": [
    "#### What actionable insights can you come up with based on the clustering results?"
   ]
  }
 ],
 "metadata": {
  "kernelspec": {
   "display_name": "Python 3 (ipykernel)",
   "language": "python",
   "name": "python3"
  },
  "language_info": {
   "codemirror_mode": {
    "name": "ipython",
    "version": 3
   },
   "file_extension": ".py",
   "mimetype": "text/x-python",
   "name": "python",
   "nbconvert_exporter": "python",
   "pygments_lexer": "ipython3",
   "version": "3.11.4"
  }
 },
 "nbformat": 4,
 "nbformat_minor": 4
}
